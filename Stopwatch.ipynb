{
 "cells": [
  {
   "cell_type": "code",
   "execution_count": 36,
   "id": "44ef9ec4-16ed-4b5b-bb27-007f37c9df90",
   "metadata": {},
   "outputs": [
    {
     "name": "stdout",
     "output_type": "stream",
     "text": [
      "00:00:6\n",
      "00:00:6\n",
      "00:00:2\n",
      "00:00:2\n",
      "00:00:2\n",
      "00:00:3\n"
     ]
    }
   ],
   "source": [
    "import tkinter as tk\n",
    "class Stopwatch():\n",
    "    def __init__(self):\n",
    "        self.seconds=0\n",
    "        self.minutes=0\n",
    "        self.hours=0\n",
    "        self.running=False\n",
    "    def start(self):\n",
    "        if not self.running:\n",
    "            self.running=True\n",
    "            self.updated_time()\n",
    "    def stop(self):\n",
    "        self.running=False\n",
    "    def reset(self):\n",
    "        self.running=False\n",
    "        self.seconds=0\n",
    "        self.minutes=0\n",
    "        self.hours=0\n",
    "        re=f\"{self.hours:02}:{self.minutes:02}:{self.seconds:02}\"\n",
    "        label.config(text=re)\n",
    "    def updated_time(self):\n",
    "        if self.running:\n",
    "            self.seconds+=1\n",
    "            if self.seconds==60:\n",
    "                self.seconds=0\n",
    "                self.minutes=+1\n",
    "                if self.minutes==60:\n",
    "                    self.minutes=0\n",
    "                    self.hours+=1\n",
    "                    if self.hours==24:\n",
    "                        self.hours=0\n",
    "            formatted_string=f\"{self.hours:02}:{self.minutes:02}:{self.seconds:02}\"\n",
    "            label.config(text=formatted_string)\n",
    "            main.after(1000,self.updated_time)\n",
    "    def saved_time(self):\n",
    "        savetime=f\"{self.hours:02}:{self.minutes:02}:{self.seconds}\"\n",
    "        print(savetime)\n",
    "main=tk.Tk()\n",
    "main.geometry(\"400x300\")\n",
    "main.title(\"STOPWATCH\")\n",
    "stopwatch=Stopwatch()\n",
    "label=tk.Label(main,text=\"00:00:00\")\n",
    "label.place(relx=0.5,rely=0.5)\n",
    "start_button=tk.Button(main,text=\"Start\",command=stopwatch.start)\n",
    "start_button.place(relx=0.5,rely=0.6)\n",
    "stop_button=tk.Button(main,text=\"Stop\",command=stopwatch.stop)\n",
    "stop_button.place(relx=0.5,rely=0.7)\n",
    "reset_button=tk.Button(main,text=\"Reset\",command=stopwatch.reset)\n",
    "reset_button.place(relx=0.5,rely=0.8)\n",
    "save_button=tk.Button(main,text=\"Save\",command=stopwatch.saved_time)\n",
    "save_button.place(relx=0.5,rely=0.9)\n",
    "main.mainloop()\n"
   ]
  },
  {
   "cell_type": "code",
   "execution_count": null,
   "id": "3c86e8eb-67db-488b-9189-5d57892a13dd",
   "metadata": {},
   "outputs": [],
   "source": [
    "import shutil\n",
    "import os\n",
    "\n",
    "# Specify the path to your notebook and the new destination (Desktop)\n",
    "source_path = r'Stopwatch.ipynb'  # Replace with your file's path\n",
    "destination_path = r''  # Destination path on Desktop\n",
    "\n",
    "# Move the file\n",
    "shutil.move(source_path, destination_path)\n",
    "\n",
    "print(\"File moved successfully!\")\n"
   ]
  }
 ],
 "metadata": {
  "kernelspec": {
   "display_name": "Python 3 (ipykernel)",
   "language": "python",
   "name": "python3"
  },
  "language_info": {
   "codemirror_mode": {
    "name": "ipython",
    "version": 3
   },
   "file_extension": ".py",
   "mimetype": "text/x-python",
   "name": "python",
   "nbconvert_exporter": "python",
   "pygments_lexer": "ipython3",
   "version": "3.12.4"
  }
 },
 "nbformat": 4,
 "nbformat_minor": 5
}
