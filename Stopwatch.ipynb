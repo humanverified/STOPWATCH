{
 "cells": [
  {
   "cell_type": "code",
   "execution_count": 48,
   "id": "44ef9ec4-16ed-4b5b-bb27-007f37c9df90",
   "metadata": {},
   "outputs": [],
   "source": [
    "import tkinter as tk\n",
    "class Stopwatch():\n",
    "    def __init__(self):\n",
    "        self.seconds=0\n",
    "        self.minutes=0\n",
    "        self.hours=0\n",
    "        self.running=False\n",
    "    def start(self):\n",
    "        if not self.running:\n",
    "            self.running=True\n",
    "            self.updated_time()\n",
    "    def stop(self):\n",
    "        self.running=False\n",
    "    def reset(self):\n",
    "        self.running=False\n",
    "        self.seconds=0\n",
    "        self.minutes=0\n",
    "        self.hours=0\n",
    "        re=f\"{self.hours:02}:{self.minutes:02}:{self.seconds:02}\"\n",
    "        label.config(text=re)\n",
    "    def updated_time(self):\n",
    "        if self.running:\n",
    "            self.seconds+=1\n",
    "            if self.seconds==60:\n",
    "                self.seconds=0\n",
    "                self.minutes=+1\n",
    "                if self.minutes==60:\n",
    "                    self.minutes=0\n",
    "                    self.hours+=1\n",
    "                    if self.hours==24:\n",
    "                        self.hours=0\n",
    "            formatted_string=f\"{self.hours:02}:{self.minutes:02}:{self.seconds:02}\"\n",
    "            label.config(text=formatted_string)\n",
    "            main.after(1000,self.updated_time)\n",
    "    def saved_time(self):\n",
    "        savetime=f\"{self.hours:02}:{self.minutes:02}:{self.seconds:02}\"\n",
    "        print(savetime)\n",
    "main=tk.Tk()\n",
    "main.geometry(\"300x100\")\n",
    "main.title(\"STOPWATCH\")\n",
    "stopwatch=Stopwatch()\n",
    "label=tk.Label(main,text=\"00:00:00\")\n",
    "label.place(relx=0.35,rely=0.3)\n",
    "start_button=tk.Button(main,text=\"Start\",command=stopwatch.start)\n",
    "start_button.place(relx=0.15,rely=0.5)\n",
    "stop_button=tk.Button(main,text=\"Stop\",command=stopwatch.stop)\n",
    "stop_button.place(relx=0.3,rely=0.5)\n",
    "reset_button=tk.Button(main,text=\"Reset\",command=stopwatch.reset)\n",
    "reset_button.place(relx=0.45,rely=0.5)\n",
    "save_button=tk.Button(main,text=\"Save\",command=stopwatch.saved_time)\n",
    "save_button.place(relx=0.6,rely=0.5)\n",
    "main.mainloop()\n"
   ]
  },
  {
   "cell_type": "code",
   "execution_count": null,
   "id": "adb86bd9-cfe6-4df0-a53e-0aa75b8313a1",
   "metadata": {},
   "outputs": [],
   "source": []
  }
 ],
 "metadata": {
  "kernelspec": {
   "display_name": "Python 3 (ipykernel)",
   "language": "python",
   "name": "python3"
  },
  "language_info": {
   "codemirror_mode": {
    "name": "ipython",
    "version": 3
   },
   "file_extension": ".py",
   "mimetype": "text/x-python",
   "name": "python",
   "nbconvert_exporter": "python",
   "pygments_lexer": "ipython3",
   "version": "3.12.4"
  }
 },
 "nbformat": 4,
 "nbformat_minor": 5
}
